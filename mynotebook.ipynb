{
 "cells": [
  {
   "cell_type": "markdown",
   "id": "a053d8e6",
   "metadata": {
    "tags": [
     "parameters"
    ]
   },
   "source": [
    "alpha = 0.4"
   ]
  },
  {
   "cell_type": "code",
   "execution_count": null,
   "id": "1ec0fdcc",
   "metadata": {},
   "outputs": [],
   "source": [
    "import numpy as np\n",
    "import matplotlib.pyplot as plt\n",
    "N = 50\n",
    "x = np.random.rand(N)\n",
    "y = np.random.rand(N)\n",
    "colors = np.random.rand(N)\n",
    "area = np.pi * (15 * np.random.rand(N))**2  # 0 to 15 point radii\n",
    "plt.scatter(x, y, s=area, c=colors, alpha=0.5)\n",
    "plt.show()"
   ]
  },
  {
   "cell_type": "markdown",
   "id": "42caa1bd",
   "metadata": {},
   "source": [
    "# Discussion\n",
    "As you can see, \n",
    "matplotlib is verbose, \n",
    "but is also easy to read and can make cool plots!"
   ]
  }
 ],
 "metadata": {},
 "nbformat": 4,
 "nbformat_minor": 5
}
