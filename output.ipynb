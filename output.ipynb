{
 "cells": [
  {
   "cell_type": "code",
   "execution_count": 1,
   "metadata": {
    "tags": [
     "parameters"
    ]
   },
   "outputs": [],
   "source": [
    "dataset_name = 'diabetes'\n",
    "model_type = 'linear_model'\n",
    "model_name = 'LinearRegression'\n",
    "hyperparameters = None\n"
   ]
  },
  {
   "cell_type": "code",
   "execution_count": 2,
   "metadata": {},
   "outputs": [],
   "source": [
    "from importlib import import_module\n",
    "import matplotlib.pyplot as plt\n",
    "import scrapbook as sb\n",
    "from sklearn.metrics import r2_score, mean_squared_error\n",
    "from sklearn.model_selection import train_test_split\n",
    "from typing import Optional, Dict\n"
   ]
  },
  {
   "cell_type": "code",
   "execution_count": 3,
   "metadata": {},
   "outputs": [],
   "source": [
    "\n",
    "class ScikitData:\n",
    "    def __init__(self, name: str) -> None:\n",
    "        self.data, self.target, self.feature_names, self.descr = (\n",
    "            getattr(import_module('sklearn.datasets'), 'load_' + name)().get(x)\n",
    "            for x in ('data', 'target', 'feature_names', 'DESCR'))\n",
    "        self.splits = train_test_split(self.data, self.target, train_size=0.6,\n",
    "                                       test_size=0.4, random_state=0)\n"
   ]
  },
  {
   "cell_type": "code",
   "execution_count": 4,
   "metadata": {},
   "outputs": [],
   "source": [
    "\n",
    "def get_model(model_type: str, model_name: str, \n",
    "              hyperparameters: Optional[Dict] = None):\n",
    "\n",
    "    module = import_module('sklearn.'+model_type)\n",
    "    model = getattr(module, model_name)\n",
    "\n",
    "    return model(**hyperparameters) if hyperparameters else model()\n"
   ]
  },
  {
   "cell_type": "code",
   "execution_count": 5,
   "metadata": {},
   "outputs": [],
   "source": [
    "\n",
    "diabetes = ScikitData(dataset_name)\n",
    "\n",
    "model = get_model(model_type=model_type, model_name=model_name)\n",
    "\n",
    "X_train, X_test, y_train, y_test = diabetes.splits\n",
    "\n",
    "model.fit(X_train, y_train)\n",
    "\n",
    "y_pred = model.predict(X_test)\n"
   ]
  },
  {
   "cell_type": "code",
   "execution_count": 6,
   "metadata": {},
   "outputs": [
    {
     "data": {
      "application/scrapbook.scrap.json+json": {
       "data": 0.3865416394270984,
       "encoder": "json",
       "name": "r2",
       "version": 1
      }
     },
     "metadata": {
      "scrapbook": {
       "data": true,
       "display": false,
       "name": "r2"
      }
     },
     "output_type": "display_data"
    },
    {
     "data": {
      "application/scrapbook.scrap.json+json": {
       "data": 3233.1544248914875,
       "encoder": "json",
       "name": "mse",
       "version": 1
      }
     },
     "metadata": {
      "scrapbook": {
       "data": true,
       "display": false,
       "name": "mse"
      }
     },
     "output_type": "display_data"
    }
   ],
   "source": [
    "\n",
    "#sb.glue('dataset_name', dataset_name)\n",
    "#sb.glue('model_type', model_type)\n",
    "#sb.glue('model_name', model_name)\n",
    "#sb.glue('hyperparameters', hyperparameters)\n",
    "sb.glue(\"r2\", r2_score(y_test, y_pred))\n",
    "sb.glue(\"mse\", mean_squared_error(y_test, y_pred))\n"
   ]
  }
 ],
 "metadata": {
  "kernelspec": {
   "display_name": "Python 3",
   "language": "python",
   "name": "python3"
  },
  "language_info": {
   "codemirror_mode": {
    "name": "ipython",
    "version": 3
   },
   "file_extension": ".py",
   "mimetype": "text/x-python",
   "name": "python",
   "nbconvert_exporter": "python",
   "pygments_lexer": "ipython3",
   "version": "3.7.10"
  }
 },
 "nbformat": 4,
 "nbformat_minor": 4
}
