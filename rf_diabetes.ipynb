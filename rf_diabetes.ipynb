{
 "cells": [
  {
   "cell_type": "markdown",
   "id": "0837ec29",
   "metadata": {
    "tags": [
     "papermill-error-cell-tag"
    ]
   },
   "source": [
    "<span style=\"color:red; font-family:Helvetica Neue, Helvetica, Arial, sans-serif; font-size:2em;\">An Exception was encountered at '<a href=\"#papermill-error-cell\">In [3]</a>'.</span>"
   ]
  },
  {
   "cell_type": "code",
   "execution_count": 1,
   "id": "2e1cbdb0",
   "metadata": {
    "execution": {
     "iopub.execute_input": "2021-06-07T16:50:15.223033Z",
     "iopub.status.busy": "2021-06-07T16:50:15.222033Z",
     "iopub.status.idle": "2021-06-07T16:50:15.226033Z",
     "shell.execute_reply": "2021-06-07T16:50:15.227033Z"
    },
    "papermill": {
     "duration": 0.018001,
     "end_time": "2021-06-07T16:50:15.227033",
     "exception": false,
     "start_time": "2021-06-07T16:50:15.209032",
     "status": "completed"
    },
    "tags": [
     "parameters"
    ]
   },
   "outputs": [],
   "source": [
    "dataset_name = 'diabetes'\n",
    "model_type = 'linear_model'\n",
    "model_name = 'LinearRegression'\n",
    "hyperparameters = None\n"
   ]
  },
  {
   "cell_type": "code",
   "execution_count": 2,
   "id": "40137bcc",
   "metadata": {
    "execution": {
     "iopub.execute_input": "2021-06-07T16:50:15.250034Z",
     "iopub.status.busy": "2021-06-07T16:50:15.249034Z",
     "iopub.status.idle": "2021-06-07T16:50:15.254034Z",
     "shell.execute_reply": "2021-06-07T16:50:15.255035Z"
    },
    "papermill": {
     "duration": 0.019002,
     "end_time": "2021-06-07T16:50:15.255035",
     "exception": false,
     "start_time": "2021-06-07T16:50:15.236033",
     "status": "completed"
    },
    "tags": [
     "injected-parameters"
    ]
   },
   "outputs": [],
   "source": [
    "# Parameters\n",
    "dataset_name = \"diabetes\"\n",
    "model_type = \"ensemble\"\n",
    "model_name = \"RandomForestRegressor\"\n",
    "hyperparameters = {\"max_depth\": 3, \"n_estimators\": 100, \"random_state\": 0}\n"
   ]
  },
  {
   "cell_type": "markdown",
   "id": "c1a0ca1f",
   "metadata": {
    "tags": [
     "papermill-error-cell-tag"
    ]
   },
   "source": [
    "<span id=\"papermill-error-cell\" style=\"color:red; font-family:Helvetica Neue, Helvetica, Arial, sans-serif; font-size:2em;\">Execution using papermill encountered an exception here and stopped:</span>"
   ]
  },
  {
   "cell_type": "code",
   "execution_count": 3,
   "id": "dd66fb0d",
   "metadata": {
    "execution": {
     "iopub.execute_input": "2021-06-07T16:50:15.276036Z",
     "iopub.status.busy": "2021-06-07T16:50:15.273036Z",
     "iopub.status.idle": "2021-06-07T16:50:15.965075Z",
     "shell.execute_reply": "2021-06-07T16:50:15.964075Z"
    },
    "papermill": {
     "duration": 0.70304,
     "end_time": "2021-06-07T16:50:15.966075",
     "exception": true,
     "start_time": "2021-06-07T16:50:15.263035",
     "status": "failed"
    },
    "tags": []
   },
   "outputs": [
    {
     "ename": "ModuleNotFoundError",
     "evalue": "No module named 'scrapbook'",
     "output_type": "error",
     "traceback": [
      "\u001b[1;31m---------------------------------------------------------------------------\u001b[0m",
      "\u001b[1;31mModuleNotFoundError\u001b[0m                       Traceback (most recent call last)",
      "\u001b[1;32m<ipython-input-3-4d0c5176b5ba>\u001b[0m in \u001b[0;36m<module>\u001b[1;34m\u001b[0m\n\u001b[0;32m      1\u001b[0m \u001b[1;32mfrom\u001b[0m \u001b[0mimportlib\u001b[0m \u001b[1;32mimport\u001b[0m \u001b[0mimport_module\u001b[0m\u001b[1;33m\u001b[0m\u001b[1;33m\u001b[0m\u001b[0m\n\u001b[0;32m      2\u001b[0m \u001b[1;32mimport\u001b[0m \u001b[0mmatplotlib\u001b[0m\u001b[1;33m.\u001b[0m\u001b[0mpyplot\u001b[0m \u001b[1;32mas\u001b[0m \u001b[0mplt\u001b[0m\u001b[1;33m\u001b[0m\u001b[1;33m\u001b[0m\u001b[0m\n\u001b[1;32m----> 3\u001b[1;33m \u001b[1;32mimport\u001b[0m \u001b[0mscrapbook\u001b[0m \u001b[1;32mas\u001b[0m \u001b[0msb\u001b[0m\u001b[1;33m\u001b[0m\u001b[1;33m\u001b[0m\u001b[0m\n\u001b[0m\u001b[0;32m      4\u001b[0m \u001b[1;32mfrom\u001b[0m \u001b[0msklearn\u001b[0m\u001b[1;33m.\u001b[0m\u001b[0mmetrics\u001b[0m \u001b[1;32mimport\u001b[0m \u001b[0mr2_score\u001b[0m\u001b[1;33m,\u001b[0m \u001b[0mmean_squared_error\u001b[0m\u001b[1;33m\u001b[0m\u001b[1;33m\u001b[0m\u001b[0m\n\u001b[0;32m      5\u001b[0m \u001b[1;32mfrom\u001b[0m \u001b[0msklearn\u001b[0m\u001b[1;33m.\u001b[0m\u001b[0mmodel_selection\u001b[0m \u001b[1;32mimport\u001b[0m \u001b[0mtrain_test_split\u001b[0m\u001b[1;33m\u001b[0m\u001b[1;33m\u001b[0m\u001b[0m\n",
      "\u001b[1;31mModuleNotFoundError\u001b[0m: No module named 'scrapbook'"
     ]
    }
   ],
   "source": [
    "from importlib import import_module\n",
    "import matplotlib.pyplot as plt\n",
    "import scrapbook as sb\n",
    "from sklearn.metrics import r2_score, mean_squared_error\n",
    "from sklearn.model_selection import train_test_split\n",
    "from typing import Optional, Dict\n"
   ]
  },
  {
   "cell_type": "code",
   "execution_count": null,
   "id": "ab2a6f48",
   "metadata": {
    "papermill": {
     "duration": null,
     "end_time": null,
     "exception": null,
     "start_time": null,
     "status": "pending"
    },
    "tags": []
   },
   "outputs": [],
   "source": [
    "\n",
    "class ScikitData:\n",
    "    def __init__(self, name: str) -> None:\n",
    "        self.data, self.target, self.feature_names, self.descr = (\n",
    "            getattr(import_module('sklearn.datasets'), 'load_' + name)().get(x)\n",
    "            for x in ('data', 'target', 'feature_names', 'DESCR'))\n",
    "        self.splits = train_test_split(self.data, self.target, train_size=0.6,\n",
    "                                       test_size=0.4, random_state=0)\n"
   ]
  },
  {
   "cell_type": "code",
   "execution_count": null,
   "id": "bcc24c21",
   "metadata": {
    "papermill": {
     "duration": null,
     "end_time": null,
     "exception": null,
     "start_time": null,
     "status": "pending"
    },
    "tags": []
   },
   "outputs": [],
   "source": [
    "\n",
    "def get_model(model_type: str, model_name: str, \n",
    "              hyperparameters: Optional[Dict] = None):\n",
    "\n",
    "    module = import_module('sklearn.'+model_type)\n",
    "    model = getattr(module, model_name)\n",
    "\n",
    "    return model(**hyperparameters) if hyperparameters else model()\n"
   ]
  },
  {
   "cell_type": "code",
   "execution_count": null,
   "id": "3133d05c",
   "metadata": {
    "papermill": {
     "duration": null,
     "end_time": null,
     "exception": null,
     "start_time": null,
     "status": "pending"
    },
    "tags": []
   },
   "outputs": [],
   "source": [
    "\n",
    "diabetes = ScikitData(dataset_name)\n",
    "\n",
    "model = get_model(model_type=model_type, model_name=model_name)\n",
    "\n",
    "X_train, X_test, y_train, y_test = diabetes.splits\n",
    "\n",
    "model.fit(X_train, y_train)\n",
    "\n",
    "y_pred = model.predict(X_test)\n"
   ]
  },
  {
   "cell_type": "code",
   "execution_count": null,
   "id": "6834f46d",
   "metadata": {
    "papermill": {
     "duration": null,
     "end_time": null,
     "exception": null,
     "start_time": null,
     "status": "pending"
    },
    "tags": []
   },
   "outputs": [],
   "source": [
    "\n",
    "#sb.glue('dataset_name', dataset_name)\n",
    "#sb.glue('model_type', model_type)\n",
    "#sb.glue('model_name', model_name)\n",
    "#sb.glue('hyperparameters', hyperparameters)\n",
    "sb.glue(\"r2\", r2_score(y_test, y_pred))\n",
    "sb.glue(\"mse\", mean_squared_error(y_test, y_pred))\n"
   ]
  }
 ],
 "metadata": {
  "kernelspec": {
   "display_name": "Python 3",
   "language": "python",
   "name": "python3"
  },
  "language_info": {
   "codemirror_mode": {
    "name": "ipython",
    "version": 3
   },
   "file_extension": ".py",
   "mimetype": "text/x-python",
   "name": "python",
   "nbconvert_exporter": "python",
   "pygments_lexer": "ipython3",
   "version": "3.7.3"
  },
  "papermill": {
   "default_parameters": {},
   "duration": 2.712155,
   "end_time": "2021-06-07T16:50:16.361098",
   "environment_variables": {},
   "exception": true,
   "input_path": "sklearn.ipynb",
   "output_path": "rf_diabetes.ipynb",
   "parameters": {
    "dataset_name": "diabetes",
    "hyperparameters": {
     "max_depth": 3,
     "n_estimators": 100,
     "random_state": 0
    },
    "model_name": "RandomForestRegressor",
    "model_type": "ensemble"
   },
   "start_time": "2021-06-07T16:50:13.648943",
   "version": "2.3.3"
  }
 },
 "nbformat": 4,
 "nbformat_minor": 5
}