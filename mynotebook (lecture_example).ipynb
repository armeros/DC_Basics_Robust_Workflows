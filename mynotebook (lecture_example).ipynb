{
 "cells": [
  {
   "cell_type": "code",
   "execution_count": null,
   "id": "42913268",
   "metadata": {},
   "outputs": [],
   "source": [
    "1+1"
   ]
  },
  {
   "cell_type": "markdown",
   "id": "e340991b",
   "metadata": {},
   "source": [
    "Hi"
   ]
  },
  {
   "cell_type": "markdown",
   "id": "7ed346ae",
   "metadata": {},
   "source": [
    "Hi"
   ]
  }
 ],
 "metadata": {},
 "nbformat": 4,
 "nbformat_minor": 5
}
